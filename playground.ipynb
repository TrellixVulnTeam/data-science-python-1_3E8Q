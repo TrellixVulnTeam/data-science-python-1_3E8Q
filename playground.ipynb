{
 "cells": [
  {
   "cell_type": "code",
   "execution_count": 12,
   "metadata": {},
   "outputs": [
    {
     "name": "stdout",
     "output_type": "stream",
     "text": [
      "Welcome to the GPA calculator.\n",
      "Please enter all your letter grades, one per line.\n",
      "Enter a blank line to designate the end.\n",
      "z\n",
      "Unknown grade z being ignored\n",
      "gjg\n",
      "Unknown grade gjg being ignored\n",
      "AB\n",
      "Unknown grade AB being ignored\n",
      "\n"
     ]
    }
   ],
   "source": [
    "print( \"Welcome to the GPA calculator.\" )\n",
    "print( \"Please enter all your letter grades, one per line.\" )\n",
    "print( \"Enter a blank line to designate the end.\" )\n",
    "# map from letter grade to point value\n",
    "points = { \"A+\" :4.0, \"A\" :4.0, \"A-\" :3.67, \"B+\" :3.33, \"B\" :3.0, \"B-\" :2.67,\n",
    "\"C+\" :2.33, \"C\" :2.0, \"C\" :1.67, \"D+\" :1.33, \"D\" :1.0, \"F\" :0.0}\n",
    "\n",
    "num_courses = 0\n",
    "total_points = 0\n",
    "done = False\n",
    "while not done:\n",
    "    grade = input( )\n",
    "    # read line from user\n",
    "    # empty line was entered\n",
    "    if grade == '':\n",
    "        done = True\n",
    "    elif grade not in points:\n",
    "        # unrecognized grade entered\n",
    "        print(\"Unknown grade {0} being ignored\".format(grade))\n",
    "    else:\n",
    "        num_courses += 1\n",
    "        total_points += points[grade]\n",
    "# avoid division by zero\n",
    "if num_courses > 0:\n",
    "    print( \"Your GPA is {0:.3} \".format(total_points / num_courses))"
   ]
  },
  {
   "cell_type": "code",
   "execution_count": 22,
   "metadata": {},
   "outputs": [
    {
     "data": {
      "text/plain": [
       "{'a': 5, 'b': 2}"
      ]
     },
     "execution_count": 22,
     "metadata": {},
     "output_type": "execute_result"
    }
   ],
   "source": [
    "name = 'saurav'\n",
    "first_name = name;\n",
    "first_name\n",
    "name\n",
    "name = 'saurav kuwar'\n",
    "name\n",
    "first_name\n",
    "\n",
    "obj = { \"a\": 1, \"b\": 2}\n",
    "obj2  = obj\n",
    "obj2[\"a\"] = 5\n",
    "obj\n"
   ]
  }
 ],
 "metadata": {
  "kernelspec": {
   "display_name": "Python 3",
   "language": "python",
   "name": "python3"
  },
  "language_info": {
   "codemirror_mode": {
    "name": "ipython",
    "version": 3
   },
   "file_extension": ".py",
   "mimetype": "text/x-python",
   "name": "python",
   "nbconvert_exporter": "python",
   "pygments_lexer": "ipython3",
   "version": "3.7.3"
  }
 },
 "nbformat": 4,
 "nbformat_minor": 2
}
