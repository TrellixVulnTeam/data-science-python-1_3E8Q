{
 "cells": [
  {
   "cell_type": "code",
   "execution_count": null,
   "metadata": {},
   "outputs": [],
   "source": [
    "import pandas as pd\n",
    "import matplotlib.pyplot as plt\n",
    "import seaborn as sns\n",
    "sns.set(style=\"darkgrid\")\n",
    "\n",
    "#df.groupby('col')['val'].agg(', ' .join).000000000\n",
    "\n",
    "df = pd.read_csv('fortune500.csv')\n",
    "df = df.drop(columns=['industry', 'state', 'city'])\n",
    "df.columns = [\"Longitude\", \"Latitude\", \"Company\", \"Location\"]\n",
    "df.tail()\n",
    "len(df)\n",
    "df.dtypes\n",
    "\n",
    "non_numberic_Location = df.Location.str.contains('[^0-9.-]')\n",
    "df.Location[non_numberic_Location].head()\n",
    "\n",
    "set(df.Location[non_numberic_Location])\n",
    "\n",
    "len(df.Location[non_numberic_Location])\n",
    "\n",
    "bin_sizes, _, _ = plt.hist(df.Longitude, bins=range(1955, 2006))\n",
    "\n",
    "# df = df.Longitude\n",
    "df.Latitude = df.Latitude.apply(pd.to_numeric)"
   ]
  },
  {
   "cell_type": "code",
   "execution_count": null,
   "metadata": {},
   "outputs": [],
   "source": []
  }
 ],
 "metadata": {
  "kernelspec": {
   "display_name": "Python 3",
   "language": "python",
   "name": "python3"
  },
  "language_info": {
   "codemirror_mode": {
    "name": "ipython",
    "version": 3
   },
   "file_extension": ".py",
   "mimetype": "text/x-python",
   "name": "python",
   "nbconvert_exporter": "python",
   "pygments_lexer": "ipython3",
   "version": "3.7.3"
  }
 },
 "nbformat": 4,
 "nbformat_minor": 2
}
